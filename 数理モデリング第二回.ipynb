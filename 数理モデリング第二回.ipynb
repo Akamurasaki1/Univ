{
  "nbformat": 4,
  "nbformat_minor": 0,
  "metadata": {
    "colab": {
      "provenance": [],
      "authorship_tag": "ABX9TyMtBhHSzXr8OPKIAk4co+Op",
      "include_colab_link": true
    },
    "kernelspec": {
      "name": "python3",
      "display_name": "Python 3"
    },
    "language_info": {
      "name": "python"
    }
  },
  "cells": [
    {
      "cell_type": "markdown",
      "metadata": {
        "id": "view-in-github",
        "colab_type": "text"
      },
      "source": [
        "<a href=\"https://colab.research.google.com/github/Akamurasaki1/Univ/blob/main/%E6%95%B0%E7%90%86%E3%83%A2%E3%83%87%E3%83%AA%E3%83%B3%E3%82%B0%E7%AC%AC%E4%BA%8C%E5%9B%9E.ipynb\" target=\"_parent\"><img src=\"https://colab.research.google.com/assets/colab-badge.svg\" alt=\"Open In Colab\"/></a>"
      ]
    },
    {
      "cell_type": "markdown",
      "source": [
        "**演習1** \\\n",
        "丸め誤差の回避\n",
        "\n",
        "```\n",
        "format(x,’.20f’)\n",
        "```\n",
        "は小数点以下20 桁\n",
        "で表示するために指定している。 \\\n"
      ],
      "metadata": {
        "id": "p60liQLJ7gn-"
      }
    },
    {
      "cell_type": "code",
      "execution_count": 1,
      "metadata": {
        "colab": {
          "base_uri": "https://localhost:8080/"
        },
        "id": "aJFiIBDk7F8H",
        "outputId": "0c0c4e47-8f9f-4f87-ec59-c7c4b8007700"
      },
      "outputs": [
        {
          "output_type": "stream",
          "name": "stdout",
          "text": [
            "0.10000000000000000555\n"
          ]
        }
      ],
      "source": [
        "x=0.1\n",
        "print(format(x,'.20f'))"
      ]
    },
    {
      "cell_type": "markdown",
      "source": [
        "次にこのx = 0.1 をN 回足した結果を表示するプログラムを作ろう。N を大きな数として（例\n",
        "えばN = 1000000）実行して結果を見てみよう。また理論値と得られた計算値の違いを考えよう"
      ],
      "metadata": {
        "id": "S5hqH9bX8fcJ"
      }
    },
    {
      "cell_type": "code",
      "source": [
        "N=1000000\n",
        "print(x*N)\n",
        "y=0\n",
        "for i in range(N):\n",
        "  y+=x\n",
        "print(y)"
      ],
      "metadata": {
        "colab": {
          "base_uri": "https://localhost:8080/"
        },
        "id": "yqttSj6M7W9Z",
        "outputId": "3dedc578-b0d9-47f9-9ce7-358586904c0b"
      },
      "execution_count": 4,
      "outputs": [
        {
          "output_type": "stream",
          "name": "stdout",
          "text": [
            "100000.0\n",
            "100000.00000133288\n"
          ]
        }
      ]
    },
    {
      "cell_type": "markdown",
      "source": [
        "（発展）丸め誤差はDecimal モジュールcを使うことで回避できる．調べて実装してみよう．"
      ],
      "metadata": {
        "id": "iSv7fSIB9aEa"
      }
    },
    {
      "cell_type": "code",
      "source": [],
      "metadata": {
        "id": "7O-ilS_99FjZ"
      },
      "execution_count": null,
      "outputs": []
    }
  ]
}